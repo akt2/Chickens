{
 "cells": [
  {
   "cell_type": "code",
   "execution_count": 41,
   "metadata": {},
   "outputs": [],
   "source": [
    "import pandas as pd\n",
    "from pygeocoder import Geocoder as gc\n",
    "import os\n",
    "import gspread\n",
    "from oauth2client.service_account import ServiceAccountCredentials as sac\n",
    "from config import key\n",
    "oath='OAuth.json'\n",
    "scope = ['https://www.googleapis.com/auth/spreadsheets']\n",
    "clinicID = '1QcQ2XsogX2lsu0FmhKM-52e2feGtMiqmqj92Zyk8G8A'\n",
    "url = 'https://docs.google.com/spreadsheets/d/1QcQ2XsogX2lsu0FmhKM-52e2feGtMiqmqj92Zyk8G8A/export?format=csv&gid=0'"
   ]
  },
  {
   "cell_type": "code",
   "execution_count": 39,
   "metadata": {},
   "outputs": [
    {
     "ename": "ValueError",
     "evalue": "('Unexpected credentials type', None, 'Expected', 'service_account')",
     "output_type": "error",
     "traceback": [
      "\u001b[1;31m---------------------------------------------------------------------------\u001b[0m",
      "\u001b[1;31mValueError\u001b[0m                                Traceback (most recent call last)",
      "\u001b[1;32m<ipython-input-39-49b820424245>\u001b[0m in \u001b[0;36m<module>\u001b[1;34m\u001b[0m\n\u001b[1;32m----> 1\u001b[1;33m \u001b[0mcredentials\u001b[0m \u001b[1;33m=\u001b[0m \u001b[0msac\u001b[0m\u001b[1;33m.\u001b[0m\u001b[0mfrom_json_keyfile_name\u001b[0m\u001b[1;33m(\u001b[0m\u001b[0moath\u001b[0m\u001b[1;33m)\u001b[0m\u001b[1;33m\u001b[0m\u001b[1;33m\u001b[0m\u001b[0m\n\u001b[0m",
      "\u001b[1;32m~\\Anaconda3\\lib\\site-packages\\oauth2client\\service_account.py\u001b[0m in \u001b[0;36mfrom_json_keyfile_name\u001b[1;34m(cls, filename, scopes, token_uri, revoke_uri)\u001b[0m\n\u001b[0;32m    221\u001b[0m         return cls._from_parsed_json_keyfile(client_credentials, scopes,\n\u001b[0;32m    222\u001b[0m                                              \u001b[0mtoken_uri\u001b[0m\u001b[1;33m=\u001b[0m\u001b[0mtoken_uri\u001b[0m\u001b[1;33m,\u001b[0m\u001b[1;33m\u001b[0m\u001b[1;33m\u001b[0m\u001b[0m\n\u001b[1;32m--> 223\u001b[1;33m                                              revoke_uri=revoke_uri)\n\u001b[0m\u001b[0;32m    224\u001b[0m \u001b[1;33m\u001b[0m\u001b[0m\n\u001b[0;32m    225\u001b[0m     \u001b[1;33m@\u001b[0m\u001b[0mclassmethod\u001b[0m\u001b[1;33m\u001b[0m\u001b[1;33m\u001b[0m\u001b[0m\n",
      "\u001b[1;32m~\\Anaconda3\\lib\\site-packages\\oauth2client\\service_account.py\u001b[0m in \u001b[0;36m_from_parsed_json_keyfile\u001b[1;34m(cls, keyfile_dict, scopes, token_uri, revoke_uri)\u001b[0m\n\u001b[0;32m    170\u001b[0m         \u001b[1;32mif\u001b[0m \u001b[0mcreds_type\u001b[0m \u001b[1;33m!=\u001b[0m \u001b[0mclient\u001b[0m\u001b[1;33m.\u001b[0m\u001b[0mSERVICE_ACCOUNT\u001b[0m\u001b[1;33m:\u001b[0m\u001b[1;33m\u001b[0m\u001b[1;33m\u001b[0m\u001b[0m\n\u001b[0;32m    171\u001b[0m             raise ValueError('Unexpected credentials type', creds_type,\n\u001b[1;32m--> 172\u001b[1;33m                              'Expected', client.SERVICE_ACCOUNT)\n\u001b[0m\u001b[0;32m    173\u001b[0m \u001b[1;33m\u001b[0m\u001b[0m\n\u001b[0;32m    174\u001b[0m         \u001b[0mservice_account_email\u001b[0m \u001b[1;33m=\u001b[0m \u001b[0mkeyfile_dict\u001b[0m\u001b[1;33m[\u001b[0m\u001b[1;34m'client_email'\u001b[0m\u001b[1;33m]\u001b[0m\u001b[1;33m\u001b[0m\u001b[1;33m\u001b[0m\u001b[0m\n",
      "\u001b[1;31mValueError\u001b[0m: ('Unexpected credentials type', None, 'Expected', 'service_account')"
     ]
    }
   ],
   "source": [
    "credentials = sac.from_json_keyfile_name(oath)"
   ]
  },
  {
   "cell_type": "code",
   "execution_count": 42,
   "metadata": {},
   "outputs": [
    {
     "data": {
      "text/html": [
       "<div>\n",
       "<style scoped>\n",
       "    .dataframe tbody tr th:only-of-type {\n",
       "        vertical-align: middle;\n",
       "    }\n",
       "\n",
       "    .dataframe tbody tr th {\n",
       "        vertical-align: top;\n",
       "    }\n",
       "\n",
       "    .dataframe thead th {\n",
       "        text-align: right;\n",
       "    }\n",
       "</style>\n",
       "<table border=\"1\" class=\"dataframe\">\n",
       "  <thead>\n",
       "    <tr style=\"text-align: right;\">\n",
       "      <th></th>\n",
       "      <th>Category</th>\n",
       "      <th>Name</th>\n",
       "      <th>Zip</th>\n",
       "      <th>Address</th>\n",
       "      <th>Telephone</th>\n",
       "    </tr>\n",
       "  </thead>\n",
       "  <tbody>\n",
       "    <tr>\n",
       "      <th>0</th>\n",
       "      <td>Clinic</td>\n",
       "      <td>Animal Medical Center of the Village</td>\n",
       "      <td>77005</td>\n",
       "      <td>5406 Kirby Drive</td>\n",
       "      <td>713-524-3800</td>\n",
       "    </tr>\n",
       "    <tr>\n",
       "      <th>1</th>\n",
       "      <td>Clinic</td>\n",
       "      <td>Bellaire Blvd Animal Clinic</td>\n",
       "      <td>77081</td>\n",
       "      <td>6213 Bellaire Boulevard</td>\n",
       "      <td>713-772-5574</td>\n",
       "    </tr>\n",
       "    <tr>\n",
       "      <th>2</th>\n",
       "      <td>Clinic</td>\n",
       "      <td>Gulf Coast Veterinary Specialists</td>\n",
       "      <td>77024</td>\n",
       "      <td>8042 Katy Freeway</td>\n",
       "      <td>713-693-1111</td>\n",
       "    </tr>\n",
       "    <tr>\n",
       "      <th>3</th>\n",
       "      <td>Clinic</td>\n",
       "      <td>Heights Veterinary Clinic</td>\n",
       "      <td>77008</td>\n",
       "      <td>1431 North Shepherd Drive</td>\n",
       "      <td>713-869-6644</td>\n",
       "    </tr>\n",
       "    <tr>\n",
       "      <th>4</th>\n",
       "      <td>Clinic</td>\n",
       "      <td>Brookdale Animal Hospital</td>\n",
       "      <td>77089</td>\n",
       "      <td>11120 Scarsdale Boulevard</td>\n",
       "      <td>281-484-4733</td>\n",
       "    </tr>\n",
       "    <tr>\n",
       "      <th>5</th>\n",
       "      <td>Clinic</td>\n",
       "      <td>Animal Kingdom Pet Hospital</td>\n",
       "      <td>77573</td>\n",
       "      <td>551 A League City Parkway</td>\n",
       "      <td>281-554-7200</td>\n",
       "    </tr>\n",
       "    <tr>\n",
       "      <th>6</th>\n",
       "      <td>Clinic</td>\n",
       "      <td>Pearland Pet Health Center</td>\n",
       "      <td>77584</td>\n",
       "      <td>10525 Hughes Ranch Road</td>\n",
       "      <td>713-436-2555</td>\n",
       "    </tr>\n",
       "    <tr>\n",
       "      <th>7</th>\n",
       "      <td>Clinic</td>\n",
       "      <td>Briarcrest Veterinary Clinic</td>\n",
       "      <td>77042</td>\n",
       "      <td>1492 Wilcrest Drive</td>\n",
       "      <td>713-789-8320</td>\n",
       "    </tr>\n",
       "    <tr>\n",
       "      <th>8</th>\n",
       "      <td>Clinic</td>\n",
       "      <td>ABC Animal &amp; Bird Clinic</td>\n",
       "      <td>77498</td>\n",
       "      <td>11930 Hwy 6 South</td>\n",
       "      <td>281-495-9445</td>\n",
       "    </tr>\n",
       "    <tr>\n",
       "      <th>9</th>\n",
       "      <td>Clinic</td>\n",
       "      <td>All Pets Animal Hospital</td>\n",
       "      <td>77494</td>\n",
       "      <td>24221 Kingsland Boulevard</td>\n",
       "      <td>281-645-9498</td>\n",
       "    </tr>\n",
       "  </tbody>\n",
       "</table>\n",
       "</div>"
      ],
      "text/plain": [
       "  Category                                  Name    Zip  \\\n",
       "0   Clinic  Animal Medical Center of the Village  77005   \n",
       "1   Clinic           Bellaire Blvd Animal Clinic  77081   \n",
       "2   Clinic     Gulf Coast Veterinary Specialists  77024   \n",
       "3   Clinic             Heights Veterinary Clinic  77008   \n",
       "4   Clinic             Brookdale Animal Hospital  77089   \n",
       "5   Clinic           Animal Kingdom Pet Hospital  77573   \n",
       "6   Clinic            Pearland Pet Health Center  77584   \n",
       "7   Clinic          Briarcrest Veterinary Clinic  77042   \n",
       "8   Clinic              ABC Animal & Bird Clinic  77498   \n",
       "9   Clinic              All Pets Animal Hospital  77494   \n",
       "\n",
       "                     Address     Telephone  \n",
       "0           5406 Kirby Drive  713-524-3800  \n",
       "1    6213 Bellaire Boulevard  713-772-5574  \n",
       "2          8042 Katy Freeway  713-693-1111  \n",
       "3  1431 North Shepherd Drive  713-869-6644  \n",
       "4  11120 Scarsdale Boulevard  281-484-4733  \n",
       "5  551 A League City Parkway  281-554-7200  \n",
       "6    10525 Hughes Ranch Road  713-436-2555  \n",
       "7        1492 Wilcrest Drive  713-789-8320  \n",
       "8          11930 Hwy 6 South  281-495-9445  \n",
       "9  24221 Kingsland Boulevard  281-645-9498  "
      ]
     },
     "execution_count": 42,
     "metadata": {},
     "output_type": "execute_result"
    }
   ],
   "source": [
    "clinic=pd.read_csv(url)\n",
    "clinic"
   ]
  },
  {
   "cell_type": "code",
   "execution_count": 43,
   "metadata": {},
   "outputs": [
    {
     "data": {
      "text/plain": [
       "(29.7236437, -95.4191148)"
      ]
     },
     "execution_count": 43,
     "metadata": {},
     "output_type": "execute_result"
    }
   ],
   "source": [
    "gc(key).geocode(clinic['Address'][0]).coordinates"
   ]
  },
  {
   "cell_type": "code",
   "execution_count": 44,
   "metadata": {},
   "outputs": [],
   "source": [
    "coor = []\n",
    "for i in range(len(clinic)):\n",
    "    result=gc(key).geocode(clinic['Address'][i]).coordinates\n",
    "    coor.append(result)"
   ]
  },
  {
   "cell_type": "code",
   "execution_count": 32,
   "metadata": {},
   "outputs": [],
   "source": [
    "coord = []\n",
    "for index, row in clinic.iterrows():\n",
    "    results=gc(key).geocode(clinic['Address'][row]).coordinates\n",
    "    coord.append(results)"
   ]
  },
  {
   "cell_type": "code",
   "execution_count": 34,
   "metadata": {},
   "outputs": [],
   "source": [
    "coords = clinic.apply(lambda row: gc(key).geocode(clinic['Address'][row]).coordinates, axis = 1)"
   ]
  },
  {
   "cell_type": "code",
   "execution_count": 45,
   "metadata": {},
   "outputs": [],
   "source": [
    "coo = []\n",
    "for c in coor:\n",
    "    coo.append(str(c).strip(\"()\"))"
   ]
  },
  {
   "cell_type": "code",
   "execution_count": 46,
   "metadata": {},
   "outputs": [],
   "source": [
    "lats = []\n",
    "lons = []\n",
    "for x in coo:\n",
    "    lats.append(float(x.split(',')[0]))\n",
    "    lons.append(float(x.split(',')[1]))"
   ]
  },
  {
   "cell_type": "code",
   "execution_count": 47,
   "metadata": {},
   "outputs": [
    {
     "data": {
      "text/html": [
       "<div>\n",
       "<style scoped>\n",
       "    .dataframe tbody tr th:only-of-type {\n",
       "        vertical-align: middle;\n",
       "    }\n",
       "\n",
       "    .dataframe tbody tr th {\n",
       "        vertical-align: top;\n",
       "    }\n",
       "\n",
       "    .dataframe thead th {\n",
       "        text-align: right;\n",
       "    }\n",
       "</style>\n",
       "<table border=\"1\" class=\"dataframe\">\n",
       "  <thead>\n",
       "    <tr style=\"text-align: right;\">\n",
       "      <th></th>\n",
       "      <th>Category</th>\n",
       "      <th>Name</th>\n",
       "      <th>Zip</th>\n",
       "      <th>Address</th>\n",
       "      <th>Telephone</th>\n",
       "      <th>Latitude</th>\n",
       "      <th>Longitude</th>\n",
       "    </tr>\n",
       "  </thead>\n",
       "  <tbody>\n",
       "    <tr>\n",
       "      <th>0</th>\n",
       "      <td>Clinic</td>\n",
       "      <td>Animal Medical Center of the Village</td>\n",
       "      <td>77005</td>\n",
       "      <td>5406 Kirby Drive</td>\n",
       "      <td>713-524-3800</td>\n",
       "      <td>29.723644</td>\n",
       "      <td>-95.419115</td>\n",
       "    </tr>\n",
       "    <tr>\n",
       "      <th>1</th>\n",
       "      <td>Clinic</td>\n",
       "      <td>Bellaire Blvd Animal Clinic</td>\n",
       "      <td>77081</td>\n",
       "      <td>6213 Bellaire Boulevard</td>\n",
       "      <td>713-772-5574</td>\n",
       "      <td>29.705048</td>\n",
       "      <td>-95.490132</td>\n",
       "    </tr>\n",
       "    <tr>\n",
       "      <th>2</th>\n",
       "      <td>Clinic</td>\n",
       "      <td>Gulf Coast Veterinary Specialists</td>\n",
       "      <td>77024</td>\n",
       "      <td>8042 Katy Freeway</td>\n",
       "      <td>713-693-1111</td>\n",
       "      <td>29.785343</td>\n",
       "      <td>-95.481550</td>\n",
       "    </tr>\n",
       "    <tr>\n",
       "      <th>3</th>\n",
       "      <td>Clinic</td>\n",
       "      <td>Heights Veterinary Clinic</td>\n",
       "      <td>77008</td>\n",
       "      <td>1431 North Shepherd Drive</td>\n",
       "      <td>713-869-6644</td>\n",
       "      <td>29.797152</td>\n",
       "      <td>-95.410359</td>\n",
       "    </tr>\n",
       "    <tr>\n",
       "      <th>4</th>\n",
       "      <td>Clinic</td>\n",
       "      <td>Brookdale Animal Hospital</td>\n",
       "      <td>77089</td>\n",
       "      <td>11120 Scarsdale Boulevard</td>\n",
       "      <td>281-484-4733</td>\n",
       "      <td>29.588285</td>\n",
       "      <td>-95.208420</td>\n",
       "    </tr>\n",
       "    <tr>\n",
       "      <th>5</th>\n",
       "      <td>Clinic</td>\n",
       "      <td>Animal Kingdom Pet Hospital</td>\n",
       "      <td>77573</td>\n",
       "      <td>551 A League City Parkway</td>\n",
       "      <td>281-554-7200</td>\n",
       "      <td>29.490932</td>\n",
       "      <td>-95.085817</td>\n",
       "    </tr>\n",
       "    <tr>\n",
       "      <th>6</th>\n",
       "      <td>Clinic</td>\n",
       "      <td>Pearland Pet Health Center</td>\n",
       "      <td>77584</td>\n",
       "      <td>10525 Hughes Ranch Road</td>\n",
       "      <td>713-436-2555</td>\n",
       "      <td>29.571004</td>\n",
       "      <td>-95.383363</td>\n",
       "    </tr>\n",
       "    <tr>\n",
       "      <th>7</th>\n",
       "      <td>Clinic</td>\n",
       "      <td>Briarcrest Veterinary Clinic</td>\n",
       "      <td>77042</td>\n",
       "      <td>1492 Wilcrest Drive</td>\n",
       "      <td>713-789-8320</td>\n",
       "      <td>29.748661</td>\n",
       "      <td>-95.572308</td>\n",
       "    </tr>\n",
       "    <tr>\n",
       "      <th>8</th>\n",
       "      <td>Clinic</td>\n",
       "      <td>ABC Animal &amp; Bird Clinic</td>\n",
       "      <td>77498</td>\n",
       "      <td>11930 Hwy 6 South</td>\n",
       "      <td>281-495-9445</td>\n",
       "      <td>29.642190</td>\n",
       "      <td>-95.652162</td>\n",
       "    </tr>\n",
       "    <tr>\n",
       "      <th>9</th>\n",
       "      <td>Clinic</td>\n",
       "      <td>All Pets Animal Hospital</td>\n",
       "      <td>77494</td>\n",
       "      <td>24221 Kingsland Boulevard</td>\n",
       "      <td>281-645-9498</td>\n",
       "      <td>29.773110</td>\n",
       "      <td>-95.793407</td>\n",
       "    </tr>\n",
       "  </tbody>\n",
       "</table>\n",
       "</div>"
      ],
      "text/plain": [
       "  Category                                  Name    Zip  \\\n",
       "0   Clinic  Animal Medical Center of the Village  77005   \n",
       "1   Clinic           Bellaire Blvd Animal Clinic  77081   \n",
       "2   Clinic     Gulf Coast Veterinary Specialists  77024   \n",
       "3   Clinic             Heights Veterinary Clinic  77008   \n",
       "4   Clinic             Brookdale Animal Hospital  77089   \n",
       "5   Clinic           Animal Kingdom Pet Hospital  77573   \n",
       "6   Clinic            Pearland Pet Health Center  77584   \n",
       "7   Clinic          Briarcrest Veterinary Clinic  77042   \n",
       "8   Clinic              ABC Animal & Bird Clinic  77498   \n",
       "9   Clinic              All Pets Animal Hospital  77494   \n",
       "\n",
       "                     Address     Telephone   Latitude  Longitude  \n",
       "0           5406 Kirby Drive  713-524-3800  29.723644 -95.419115  \n",
       "1    6213 Bellaire Boulevard  713-772-5574  29.705048 -95.490132  \n",
       "2          8042 Katy Freeway  713-693-1111  29.785343 -95.481550  \n",
       "3  1431 North Shepherd Drive  713-869-6644  29.797152 -95.410359  \n",
       "4  11120 Scarsdale Boulevard  281-484-4733  29.588285 -95.208420  \n",
       "5  551 A League City Parkway  281-554-7200  29.490932 -95.085817  \n",
       "6    10525 Hughes Ranch Road  713-436-2555  29.571004 -95.383363  \n",
       "7        1492 Wilcrest Drive  713-789-8320  29.748661 -95.572308  \n",
       "8          11930 Hwy 6 South  281-495-9445  29.642190 -95.652162  \n",
       "9  24221 Kingsland Boulevard  281-645-9498  29.773110 -95.793407  "
      ]
     },
     "execution_count": 47,
     "metadata": {},
     "output_type": "execute_result"
    }
   ],
   "source": [
    "clinic['Latitude']=lats\n",
    "clinic['Longitude']=lons\n",
    "clinic"
   ]
  },
  {
   "cell_type": "code",
   "execution_count": 49,
   "metadata": {},
   "outputs": [],
   "source": [
    "clinic.to_excel('geoclinic.xlsx')"
   ]
  },
  {
   "cell_type": "code",
   "execution_count": 35,
   "metadata": {},
   "outputs": [
    {
     "ename": "AttributeError",
     "evalue": "module 'gspread' has no attribute 'upload'",
     "output_type": "error",
     "traceback": [
      "\u001b[1;31m---------------------------------------------------------------------------\u001b[0m",
      "\u001b[1;31mAttributeError\u001b[0m                            Traceback (most recent call last)",
      "\u001b[1;32m<ipython-input-35-b68a23d463ef>\u001b[0m in \u001b[0;36m<module>\u001b[1;34m\u001b[0m\n\u001b[1;32m----> 1\u001b[1;33m \u001b[0mgspread\u001b[0m\u001b[1;33m.\u001b[0m\u001b[0mupload\u001b[0m\u001b[1;33m(\u001b[0m\u001b[0mclinic\u001b[0m\u001b[1;33m,\u001b[0m \u001b[1;34m'1QcQ2XsogX2lsu0FmhKM-52e2feGtMiqmqj92Zyk8G8A'\u001b[0m\u001b[1;33m)\u001b[0m\u001b[1;33m\u001b[0m\u001b[1;33m\u001b[0m\u001b[0m\n\u001b[0m",
      "\u001b[1;31mAttributeError\u001b[0m: module 'gspread' has no attribute 'upload'"
     ]
    }
   ],
   "source": [
    "gspread.upload(clinic, '1QcQ2XsogX2lsu0FmhKM-52e2feGtMiqmqj92Zyk8G8A')"
   ]
  },
  {
   "cell_type": "code",
   "execution_count": null,
   "metadata": {},
   "outputs": [],
   "source": []
  }
 ],
 "metadata": {
  "kernelspec": {
   "display_name": "Python 3",
   "language": "python",
   "name": "python3"
  },
  "language_info": {
   "codemirror_mode": {
    "name": "ipython",
    "version": 3
   },
   "file_extension": ".py",
   "mimetype": "text/x-python",
   "name": "python",
   "nbconvert_exporter": "python",
   "pygments_lexer": "ipython3",
   "version": "3.7.1"
  }
 },
 "nbformat": 4,
 "nbformat_minor": 2
}
